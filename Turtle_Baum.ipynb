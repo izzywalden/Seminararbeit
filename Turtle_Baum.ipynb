{
 "cells": [
  {
   "cell_type": "code",
   "execution_count": 1,
   "metadata": {},
   "outputs": [],
   "source": [
    "import turtle\n",
    "\n",
    "t = turtle.Turtle(shape=\"turtle\")\n",
    "\n",
    "t.lt(90)\n",
    "\n",
    "lv = 14\n",
    "l = 120\n",
    "s = 45\n",
    "\n",
    "t.width(lv)\n",
    "\n",
    "t.penup()\n",
    "t.bk(l)\n",
    "t.pendown()\n",
    "t.fd(l)\n",
    "\n",
    "def draw_tree(l, level):\n",
    "    width = t.width()  # save the current pen width\n",
    "\n",
    "    t.width(width * 3.0 / 4.0)  # narrow the pen width\n",
    "\n",
    "    l = 3.0 / 4.0 * l\n",
    "\n",
    "    t.lt(s)\n",
    "    t.fd(l)\n",
    "\n",
    "    if level < lv:\n",
    "        draw_tree(l, level + 1)\n",
    "    t.bk(l)\n",
    "    t.rt(2 * s)\n",
    "    t.fd(l)\n",
    "\n",
    "    if level < lv:\n",
    "        draw_tree(l, level + 1)\n",
    "    t.bk(l)\n",
    "    t.lt(s)\n",
    "\n",
    "    t.width(width)  # restore the previous pen width\n",
    "\n",
    "t.speed(0)\n",
    "\n",
    "draw_tree(l, 4)\n",
    "\n",
    "turtle.done()"
   ]
  },
  {
   "cell_type": "code",
   "execution_count": null,
   "metadata": {},
   "outputs": [],
   "source": []
  }
 ],
 "metadata": {
  "kernelspec": {
   "display_name": "Python 3",
   "language": "python",
   "name": "python3"
  },
  "language_info": {
   "codemirror_mode": {
    "name": "ipython",
    "version": 3
   },
   "file_extension": ".py",
   "mimetype": "text/x-python",
   "name": "python",
   "nbconvert_exporter": "python",
   "pygments_lexer": "ipython3",
   "version": "3.7.1"
  }
 },
 "nbformat": 4,
 "nbformat_minor": 2
}
